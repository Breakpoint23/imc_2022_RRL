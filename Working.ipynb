{
  "nbformat": 4,
  "nbformat_minor": 0,
  "metadata": {
    "colab": {
      "name": "Untitled5.ipynb",
      "provenance": [],
      "collapsed_sections": [],
      "machine_shape": "hm",
      "authorship_tag": "ABX9TyNtCfZspQds0b4RpU2bWrdW",
      "include_colab_link": true
    },
    "kernelspec": {
      "name": "python3",
      "display_name": "Python 3"
    },
    "language_info": {
      "name": "python"
    }
  },
  "cells": [
    {
      "cell_type": "markdown",
      "metadata": {
        "id": "view-in-github",
        "colab_type": "text"
      },
      "source": [
        "<a href=\"https://colab.research.google.com/github/Breakpoint23/imc_2022_RRL/blob/Meet/Working.ipynb\" target=\"_parent\"><img src=\"https://colab.research.google.com/assets/colab-badge.svg\" alt=\"Open In Colab\"/></a>"
      ]
    },
    {
      "cell_type": "code",
      "execution_count": null,
      "metadata": {
        "colab": {
          "base_uri": "https://localhost:8080/"
        },
        "id": "OQNL4pQmWrv7",
        "outputId": "d25f2e9e-fac1-483e-bce2-ca824de33316"
      },
      "outputs": [
        {
          "output_type": "stream",
          "name": "stdout",
          "text": [
            "Requirement already satisfied: kaggle in /usr/local/lib/python3.7/dist-packages (1.5.12)\n",
            "Requirement already satisfied: requests in /usr/local/lib/python3.7/dist-packages (from kaggle) (2.23.0)\n",
            "Requirement already satisfied: certifi in /usr/local/lib/python3.7/dist-packages (from kaggle) (2021.10.8)\n",
            "Requirement already satisfied: six>=1.10 in /usr/local/lib/python3.7/dist-packages (from kaggle) (1.15.0)\n",
            "Requirement already satisfied: python-slugify in /usr/local/lib/python3.7/dist-packages (from kaggle) (6.1.1)\n",
            "Requirement already satisfied: python-dateutil in /usr/local/lib/python3.7/dist-packages (from kaggle) (2.8.2)\n",
            "Requirement already satisfied: tqdm in /usr/local/lib/python3.7/dist-packages (from kaggle) (4.64.0)\n",
            "Requirement already satisfied: urllib3 in /usr/local/lib/python3.7/dist-packages (from kaggle) (1.24.3)\n",
            "Requirement already satisfied: text-unidecode>=1.3 in /usr/local/lib/python3.7/dist-packages (from python-slugify->kaggle) (1.3)\n",
            "Requirement already satisfied: chardet<4,>=3.0.2 in /usr/local/lib/python3.7/dist-packages (from requests->kaggle) (3.0.4)\n",
            "Requirement already satisfied: idna<3,>=2.5 in /usr/local/lib/python3.7/dist-packages (from requests->kaggle) (2.10)\n"
          ]
        }
      ],
      "source": [
        "!pip install kaggle"
      ]
    },
    {
      "cell_type": "code",
      "source": [
        "mkdir ~/.kaggle"
      ],
      "metadata": {
        "id": "9Ma2kU39W29y"
      },
      "execution_count": null,
      "outputs": []
    },
    {
      "cell_type": "code",
      "source": [
        ""
      ],
      "metadata": {
        "colab": {
          "base_uri": "https://localhost:8080/"
        },
        "id": "1cqHhXNwW49f",
        "outputId": "64b3febd-0055-4bd5-a4b1-01996d68b6bd"
      },
      "execution_count": null,
      "outputs": [
        {
          "output_type": "stream",
          "name": "stdout",
          "text": [
            "/content\n"
          ]
        }
      ]
    },
    {
      "cell_type": "code",
      "source": [
        "cp kaggle.json ~/.kaggle"
      ],
      "metadata": {
        "id": "gfGuQQ5PXCrR"
      },
      "execution_count": null,
      "outputs": []
    },
    {
      "cell_type": "code",
      "source": [
        "!kaggle competitions download -c image-matching-challenge-2022"
      ],
      "metadata": {
        "colab": {
          "base_uri": "https://localhost:8080/"
        },
        "id": "QK1XRVMIXHzV",
        "outputId": "be0fd2bf-3687-4816-8a7d-6c0ee09f8ff3"
      },
      "execution_count": null,
      "outputs": [
        {
          "output_type": "stream",
          "name": "stdout",
          "text": [
            "Warning: Your Kaggle API key is readable by other users on this system! To fix this, you can run 'chmod 600 /root/.kaggle/kaggle.json'\n",
            "Downloading image-matching-challenge-2022.zip to /content\n",
            "100% 2.30G/2.31G [01:11<00:00, 53.3MB/s]\n",
            "100% 2.31G/2.31G [01:11<00:00, 34.7MB/s]\n"
          ]
        }
      ]
    },
    {
      "cell_type": "code",
      "source": [
        "!unzip image-matching-challenge-2022.zip"
      ],
      "metadata": {
        "id": "ezeWs2ghXMvx"
      },
      "execution_count": null,
      "outputs": []
    },
    {
      "cell_type": "code",
      "source": [
        "import pandas as pd\n",
        "import numpy as np"
      ],
      "metadata": {
        "id": "d8EHFBmxXgGS"
      },
      "execution_count": null,
      "outputs": []
    },
    {
      "cell_type": "code",
      "source": [
        "import torch\n",
        "import torch.nn as nn\n",
        "from torch.autograd import Variable\n",
        "from torchsummary import summary\n",
        "import numpy as np\n",
        "class SuperPointNet(torch.nn.Module):\n",
        "  \"\"\" Pytorch definition of SuperPoint Network. \"\"\"\n",
        "  def __init__(self):\n",
        "    super(SuperPointNet, self).__init__()\n",
        "    self.relu = torch.nn.ReLU(inplace=True)\n",
        "    self.pool = torch.nn.MaxPool2d(kernel_size=2, stride=2)\n",
        "    c1, c2, c3, c4, c5, d1 = 64, 64, 128, 128, 256, 256\n",
        "    # Shared Encoder.\n",
        "    self.conv1a = torch.nn.Conv2d(1, c1, kernel_size=3, stride=1, padding=1)\n",
        "    self.conv1b = torch.nn.Conv2d(c1, c1, kernel_size=3, stride=1, padding=1)\n",
        "    self.conv2a = torch.nn.Conv2d(c1, c2, kernel_size=3, stride=1, padding=1)\n",
        "    self.conv2b = torch.nn.Conv2d(c2, c2, kernel_size=3, stride=1, padding=1)\n",
        "    self.conv3a = torch.nn.Conv2d(c2, c3, kernel_size=3, stride=1, padding=1)\n",
        "    self.conv3b = torch.nn.Conv2d(c3, c3, kernel_size=3, stride=1, padding=1)\n",
        "    self.conv4a = torch.nn.Conv2d(c3, c4, kernel_size=3, stride=1, padding=1)\n",
        "    self.conv4b = torch.nn.Conv2d(c4, c4, kernel_size=3, stride=1, padding=1)\n",
        "    # Detector Head.\n",
        "    self.convPa = torch.nn.Conv2d(c4, c5, kernel_size=3, stride=1, padding=1)\n",
        "    self.convPb = torch.nn.Conv2d(c5, 65, kernel_size=1, stride=1, padding=0)\n",
        "    # Descriptor Head.\n",
        "    self.convDa = torch.nn.Conv2d(c4, c5, kernel_size=3, stride=1, padding=1)\n",
        "    self.convDb = torch.nn.Conv2d(c5, d1, kernel_size=1, stride=1, padding=0)\n",
        "\n",
        "  def forward(self, x):\n",
        "    \"\"\" Forward pass that jointly computes unprocessed point and descriptor\n",
        "    tensors.\n",
        "    Input\n",
        "      x: Image pytorch tensor shaped N x 1 x H x W.\n",
        "    Output\n",
        "      semi: Output point pytorch tensor shaped N x 65 x H/8 x W/8.\n",
        "      desc: Output descriptor pytorch tensor shaped N x 256 x H/8 x W/8.\n",
        "    \"\"\"\n",
        "    # Shared Encoder.\n",
        "    x = self.relu(self.conv1a(x))\n",
        "    x = self.relu(self.conv1b(x))\n",
        "    x = self.pool(x)\n",
        "    x = self.relu(self.conv2a(x))\n",
        "    x = self.relu(self.conv2b(x))\n",
        "    x = self.pool(x)\n",
        "    x = self.relu(self.conv3a(x))\n",
        "    x = self.relu(self.conv3b(x))\n",
        "    x = self.pool(x)\n",
        "    x = self.relu(self.conv4a(x))\n",
        "    x = self.relu(self.conv4b(x))\n",
        "    # Detector Head.\n",
        "    cPa = self.relu(self.convPa(x))\n",
        "    semi = self.convPb(cPa)\n",
        "    # Descriptor Head.\n",
        "    cDa = self.relu(self.convDa(x))\n",
        "    desc = self.convDb(cDa)\n",
        "    dn = torch.norm(desc, p=2, dim=1) # Compute the norm.\n",
        "    desc = desc.div(torch.unsqueeze(dn, 1)) # Divide by norm to normalize.\n",
        "    return semi, desc\n",
        "\n",
        "class FunRec(nn.Module):\n",
        "  \"\"\"\n",
        "  How to reconstruct fundamental matrix\n",
        "  Need 12 parameters before the reconstruction\n",
        "  each image's output is a tensor of shape (N, 65+256, H/8, W/8)\n",
        "  for two images ,shape would be (N,2*(65+256), H/8, W/8)\n",
        "  (f1,cx1,cy1,f2,cx2,cy2,rx,ry,rz,tx,ty,tz)\n",
        "  F=K2^-T*t*R*K1^-1\n",
        "  \"\"\"\n",
        "  def __init__(self):\n",
        "    super(FunRec, self).__init__()\n",
        "    self.device=torch.device('cuda' if torch.cuda.is_available() else 'cpu')\n",
        "    self.relu=nn.ReLU(inplace=True)\n",
        "    self.net = SuperPointNet()\n",
        "    self.net.load_state_dict(torch.load('superpoint_v1.pth'))\n",
        "    self.net.to(self.device)\n",
        "    self.input_norm=nn.BatchNorm2d(num_features=1)\n",
        "    self.conv1a=nn.Conv2d(in_channels=2*(65+256),out_channels=64,kernel_size=3,stride=1)\n",
        "    #outshape=(N,64,H/8,W/8)\n",
        "    self.batchnorm1=nn.BatchNorm2d(num_features=64)\n",
        "    self.conv2a=nn.Conv2d(in_channels=64,out_channels=32,kernel_size=3,stride=1)\n",
        "    #outshape=(N,32,H/8,W/8)\n",
        "    self.batchnorm2=nn.BatchNorm2d(num_features=32)\n",
        "    self.dense1=nn.Linear(in_features=int(32*24*28),out_features=int(8*24*28))\n",
        "    self.dense2=nn.Linear(in_features=int(8*24*28),out_features=12)\n",
        "\n",
        "  def forward(self,x):\n",
        "    \"\"\"\n",
        "    x1: (N,65+256,H/8,W/8)\n",
        "    x2: (N,65+256,H/8,W/8)\n",
        "    \"\"\"\n",
        "    \n",
        "    x1=torch.unsqueeze(x[:,0,:,:],1)\n",
        "    x2=torch.unsqueeze(x[:,1,:,:],1)\n",
        "    \n",
        "    x1=self.input_norm(x1)\n",
        "    x2=self.input_norm(x2)\n",
        "    x1semi,x1desc=self.net(x1)\n",
        "    x2semi,x2desc=self.net(x2)\n",
        "    #print(f'x1semi.shape={x1semi.shape},x1desc.shape={x1desc.shape},x2semi.shape={x2semi.shape},x2desc.shape={x2desc.shape}')\n",
        "    x1=torch.concat((x1semi,x2semi),1)\n",
        "    x2=torch.concat((x1desc,x2desc),1)\n",
        "    x=torch.cat((x1,x2),1)\n",
        "    x=self.conv1a(x)\n",
        "    x=self.relu(x)\n",
        "    x=self.batchnorm1(x)\n",
        "    x=self.conv2a(x)\n",
        "    x=self.relu(x)\n",
        "    x=self.batchnorm2(x)\n",
        "    #print(x.shape,32*(224/8)*(256/8),32*24*28)\n",
        "    x=x.view(x.shape[0],-1)\n",
        "    \n",
        "    x=self.dense1(x)\n",
        "    x=self.relu(x)\n",
        "    x=self.dense2(x)\n",
        "    tensor_0=torch.zeros(1,requires_grad=True).to(self.device)\n",
        "    tensor_1=torch.ones(1,requires_grad=True).to(self.device)\n",
        "    \n",
        "    for i,sample in enumerate(x):\n",
        "      #print(sample)\n",
        "      f1,cx1,cy1,f2,cx2,cy2,rx,ry,rz,tx,ty,tz=sample\n",
        "      f1,cx1,cy1,f2,cx2,cy2,rx,ry,rz,tx,ty,tz=f1.reshape(1),cx1.reshape(1),cy1.reshape(1),f2.reshape(1),cx2.reshape(1),cy2.reshape(1),rx.reshape(1),ry.reshape(1),rz.reshape(1),tx.reshape(1),ty.reshape(1),tz.reshape(1)\n",
        "      #print(torch.stack([f1,tensor_0,cx1]))\n",
        "      K1=torch.stack([torch.stack([f1,tensor_0,cx1]),torch.stack([tensor_0,f1,cy1]),torch.stack([tensor_0,tensor_0,tensor_1])]).reshape(3,3)\n",
        "      K2=torch.stack([torch.stack([f2,tensor_0,cx2]),torch.stack([tensor_0,f2,cy2]),torch.stack([tensor_0,tensor_0,tensor_1])]).reshape(3,3)\n",
        "      Rx=torch.stack([torch.stack([tensor_1,tensor_0,tensor_0]),torch.stack([tensor_0,torch.cos(rx),-torch.sin(rx)]),torch.stack([tensor_0,torch.sin(rx),torch.cos(rx)])]).reshape(3,3)\n",
        "      Ry=torch.stack([torch.stack([torch.cos(ry),tensor_0,torch.sin(ry)]),torch.stack([tensor_0,tensor_1,tensor_0]),torch.stack([-torch.sin(ry),tensor_0,torch.cos(ry)])]).reshape(3,3)\n",
        "      Rz=torch.stack([torch.stack([torch.cos(rz),-torch.sin(rz),tensor_0]),torch.stack([torch.sin(rz),torch.cos(rz),tensor_0]),torch.stack([tensor_0,tensor_0,tensor_1])]).reshape(3,3)\n",
        "      tx=torch.stack([torch.stack([tensor_0,-tz,ty]),torch.stack([tz,tensor_0,-tx]),torch.stack([-ty,tx,tensor_0])]).reshape(3,3)\n",
        "      R=torch.matmul(torch.matmul(Rx,Ry),Rz)\n",
        "      sample_f=torch.matmul(torch.matmul(torch.inverse(K2),tx),torch.matmul(R,torch.inverse(K1)))\n",
        "      sample_f=sample_f.reshape(1,9)\n",
        "      if i==0:\n",
        "        y=sample_f\n",
        "      else:\n",
        "        y=torch.cat((y,sample_f),0)\n",
        "      #print(y.shape)\n",
        "    y=y.reshape(y.shape[0],9)\n",
        "    y=y/torch.max(y)\n",
        "    return y\n"
      ],
      "metadata": {
        "id": "BXFTPIv2Zt1E"
      },
      "execution_count": 72,
      "outputs": []
    },
    {
      "cell_type": "code",
      "source": [
        "import cv2 as cv\n",
        "import numpy as np\n",
        "import pandas as pd\n",
        "import torch \n",
        "import torch.nn as nn\n",
        "import os,time\n",
        "import matplotlib.pyplot as plt\n",
        "import matplotlib.image as mpimg\n",
        "import pickle\n",
        "# path to training data\n",
        "\n",
        "path='train'\n",
        "\n",
        "#list of directories\n",
        "\n",
        "\n",
        "X1=np.empty((1,1,224,256))\n",
        "X2=np.empty((1,1,224,256))\n",
        "y=np.empty((1,9))\n",
        "\n",
        "places=os.listdir(path)\n",
        "for place in places:\n",
        "    if '.' in place:\n",
        "        places.remove(place)\n",
        "prev_time=time.time()    \n",
        "for place in places:\n",
        "    pairs=pd.read_csv(path+f'/{place}/pair_covisibility.csv')\n",
        "    pairs=pairs[pairs['covisibility']>0.1]\n",
        "    pairs=pairs.reset_index()\n",
        "    x1=[]\n",
        "    x2=[]\n",
        "    Y=[]\n",
        "        \n",
        "    for index,pair in pairs.iterrows():\n",
        "        if len(x1)>2000:\n",
        "            break\n",
        "        try:                \n",
        "            ids=pair['pair'].split('-')\n",
        "            img1=cv.imread(path+f'/{place}/images/{ids[0]}.jpg',cv.IMREAD_GRAYSCALE)\n",
        "                #print(img1)\n",
        "            if img1.shape[0]>img1.shape[1]:\n",
        "                img1=cv.rotate(img1,cv.ROTATE_90_CLOCKWISE)\n",
        "            img2=cv.imread(path+f'/{place}/images/{ids[1]}.jpg',cv.IMREAD_GRAYSCALE)\n",
        "            if img2.shape[0]>img2.shape[1]:\n",
        "                img2=cv.rotate(img2,cv.ROTATE_90_CLOCKWISE)\n",
        "            img1,img2=cv.resize(img1,(256,224)),cv.resize(img2,(256,224))\n",
        "            img1,img2=np.array(img1),np.array(img2)\n",
        "            img1,img2=img1.reshape(1,224,256),img2.reshape(1,224,256)\n",
        "            x1.append(img1)\n",
        "            x2.append(img2)\n",
        "                #X1,X2=np.concatenate((X1,img1),axis=0),np.concatenate((X2,img2),axis=0)\n",
        "            Fun_mat=pair['fundamental_matrix']\n",
        "            Fun_mat=Fun_mat.split(' ')\n",
        "            Fun_mat=np.array(Fun_mat).astype(float)\n",
        "            Fun_mat=Fun_mat.reshape(1,9)\n",
        "            Y.append(Fun_mat)\n",
        "            if time.time()-prev_time>10:\n",
        "                print(f'{place} {index}/{len(pairs)}')\n",
        "                prev_time=time.time()\n",
        "                #y=np.concatenate((y,Fun_mat),axis=0)\n",
        "        except Exception as e:\n",
        "              print(e)\n",
        "              break\n",
        "    x1=np.array(x1)\n",
        "    x2=np.array(x2)\n",
        "    Y=np.array(Y).reshape(-1,9)   \n",
        "    X1=np.concatenate((X1,np.array(x1)),axis=0)\n",
        "    X2=np.concatenate((X2,np.array(x1)),axis=0)\n",
        "    y=np.concatenate((y,Y),axis=0)\n",
        "    print(place,x1.shape,x2.shape,Y.shape)\n",
        "    break"
      ],
      "metadata": {
        "id": "-HSbePEQLQay",
        "colab": {
          "base_uri": "https://localhost:8080/",
          "height": 287
        },
        "outputId": "01035dab-a83d-4ba7-ad76-9866414146d6"
      },
      "execution_count": 60,
      "outputs": [
        {
          "output_type": "error",
          "ename": "KeyboardInterrupt",
          "evalue": "ignored",
          "traceback": [
            "\u001b[0;31m---------------------------------------------------------------------------\u001b[0m",
            "\u001b[0;31mKeyboardInterrupt\u001b[0m                         Traceback (most recent call last)",
            "\u001b[0;32m<ipython-input-60-5975428a31cc>\u001b[0m in \u001b[0;36m<module>\u001b[0;34m()\u001b[0m\n\u001b[1;32m     37\u001b[0m         \u001b[0;32mtry\u001b[0m\u001b[0;34m:\u001b[0m\u001b[0;34m\u001b[0m\u001b[0;34m\u001b[0m\u001b[0m\n\u001b[1;32m     38\u001b[0m             \u001b[0mids\u001b[0m\u001b[0;34m=\u001b[0m\u001b[0mpair\u001b[0m\u001b[0;34m[\u001b[0m\u001b[0;34m'pair'\u001b[0m\u001b[0;34m]\u001b[0m\u001b[0;34m.\u001b[0m\u001b[0msplit\u001b[0m\u001b[0;34m(\u001b[0m\u001b[0;34m'-'\u001b[0m\u001b[0;34m)\u001b[0m\u001b[0;34m\u001b[0m\u001b[0;34m\u001b[0m\u001b[0m\n\u001b[0;32m---> 39\u001b[0;31m             \u001b[0mimg1\u001b[0m\u001b[0;34m=\u001b[0m\u001b[0mcv\u001b[0m\u001b[0;34m.\u001b[0m\u001b[0mimread\u001b[0m\u001b[0;34m(\u001b[0m\u001b[0mpath\u001b[0m\u001b[0;34m+\u001b[0m\u001b[0;34mf'/{place}/images/{ids[0]}.jpg'\u001b[0m\u001b[0;34m,\u001b[0m\u001b[0mcv\u001b[0m\u001b[0;34m.\u001b[0m\u001b[0mIMREAD_GRAYSCALE\u001b[0m\u001b[0;34m)\u001b[0m\u001b[0;34m\u001b[0m\u001b[0;34m\u001b[0m\u001b[0m\n\u001b[0m\u001b[1;32m     40\u001b[0m                 \u001b[0;31m#print(img1)\u001b[0m\u001b[0;34m\u001b[0m\u001b[0;34m\u001b[0m\u001b[0;34m\u001b[0m\u001b[0m\n\u001b[1;32m     41\u001b[0m             \u001b[0;32mif\u001b[0m \u001b[0mimg1\u001b[0m\u001b[0;34m.\u001b[0m\u001b[0mshape\u001b[0m\u001b[0;34m[\u001b[0m\u001b[0;36m0\u001b[0m\u001b[0;34m]\u001b[0m\u001b[0;34m>\u001b[0m\u001b[0mimg1\u001b[0m\u001b[0;34m.\u001b[0m\u001b[0mshape\u001b[0m\u001b[0;34m[\u001b[0m\u001b[0;36m1\u001b[0m\u001b[0;34m]\u001b[0m\u001b[0;34m:\u001b[0m\u001b[0;34m\u001b[0m\u001b[0;34m\u001b[0m\u001b[0m\n",
            "\u001b[0;31mKeyboardInterrupt\u001b[0m: "
          ]
        }
      ]
    },
    {
      "cell_type": "code",
      "source": [
        "\n",
        "\n",
        "from sklearn import model_selection\n",
        "import torch\n",
        "import torch.nn as nn\n",
        "import numpy as np\n",
        "import cv2 as cv\n",
        "import os\n",
        "\n",
        "try:\n",
        "  os.mkdir(model_selection)\n",
        "except Exception as e:\n",
        "  print(e)\n",
        "\n",
        "from sklearn.metrics import confusion_matrix,classification_report\n",
        "\n",
        "import pickle\n",
        "from sklearn.model_selection import train_test_split\n",
        "from torch.utils.data import DataLoader\n",
        "\n",
        "import matplotlib.pyplot as plt\n",
        "\n",
        "places=os.listdir(path)\n",
        "for place in places:\n",
        "    if '.' in place:\n",
        "      places.remove(place)\n",
        "\n",
        "def train():\n",
        "    device=torch.device(\"cuda:0\" if torch.cuda.is_available() else \"cpu\")\n",
        "    losses=[]\n",
        "    #X1=np.array(X1)\n",
        "    #X2=np.array(X2)\n",
        "    #y=np.array(y).reshape(-1,9)\n",
        "    #X1,X2,y=pickle.load(open('trial_data.pickle','rb'))\n",
        "    #X=np.concatenate((X1,X2),axis=1)\n",
        "    #X_train,X_test,y_train,y_test=train_test_split(X,y,test_size=0.35,random_state=42)\n",
        "    #print(f'Train_size:{X_train.shape},Test_size:{X_test.shape}')\n",
        "    df=pd.read_csv('all_images_mat.csv')\n",
        "    samples=len(df)\n",
        "    X=np.arange(0,samples)\n",
        "    y=df['mat']\n",
        "    X_train,X_test,y_train,y_test=train_test_split(X,y,test_size=0.35,random_state=42)\n",
        "    train_size=len(X_train)\n",
        "    test_size=len(X_test)\n",
        "    model=FunRec()\n",
        "    model.to(device)\n",
        "    optimizer=torch.optim.Adam(model.parameters(),lr=0.001)\n",
        "    loss_fn=nn.MSELoss()\n",
        "    train_loss=[]\n",
        "    train_accuracy=[]\n",
        "    train_dataset=Image_dataset(X_train)\n",
        "    test_dataset=Image_dataset(X_test)\n",
        "    \n",
        "    # train_dataset=Images(X_train,y_train)\n",
        "    # test_dataset=Images(X_test,y_test)\n",
        "    train_loader=DataLoader(train_dataset,batch_size=100,shuffle=True,num_workers=2)\n",
        "    test_loader=DataLoader(test_dataset,batch_size=100,shuffle=True,num_workers=2)\n",
        "    train_loss=[]\n",
        "    test_loss=[]\n",
        "    prev_time=time.time()\n",
        "    for epoch in range(30):\n",
        "      train_test_loss=[]\n",
        "      for i,(x1,y) in enumerate(train_loader):\n",
        "            if time.time()-prev_time>30:\n",
        "              print(i,train_size/100)\n",
        "              prev_time=time.time()\n",
        "            x1=x1.to(device)\n",
        "            #x2=x2.to(device)\n",
        "            y=y.to(device)\n",
        "            optimizer.zero_grad()\n",
        "            y_pred=model(x1)\n",
        "            loss=loss_fn(y_pred,y)\n",
        "            loss.backward()\n",
        "            optimizer.step()    \n",
        "      with torch.no_grad():\n",
        "          true_labels=[]\n",
        "          final_output=[]\n",
        "          n_correct=0\n",
        "          n_samples=0\n",
        "          train_losses=[]\n",
        "          for i,(x1,y) in enumerate(train_loader):\n",
        "            x1=x1.to(device)\n",
        "           # x2=x2.to(device)\n",
        "            y=y.to(device)\n",
        "            y_pred=model(x1)\n",
        "            loss=loss_fn(y_pred,y)\n",
        "            train_losses.append(loss.item())\n",
        "          train_loss.append(np.nanmean(train_losses))\n",
        "          with open('train_loss.txt','wb') as f:\n",
        "            np.savetxt(f,np.array(train_loss))\n",
        "          print(f'epoch:{epoch},loss:{train_loss[-1]}')\n",
        "          test_losses=[]\n",
        "          for i,(x1,y) in enumerate(test_loader):\n",
        "            x1=x1.to(device)\n",
        "            #x2=x2.to(device)\n",
        "            y=y.to(device)\n",
        "            y_pred=model(x1)\n",
        "            loss=loss_fn(y_pred,y)\n",
        "            test_losses.append(loss.item())\n",
        "          test_loss.append(np.nanmean(test_losses))\n",
        "          with open('test_loss.txt','wb') as f:\n",
        "            np.savetxt(f,np.array(test_loss))\n",
        "          print(f'epoch:{epoch},test_loss:{test_loss[-1]}')\n",
        "\n",
        "          with open(f'{epoch}_model.h5','wb') as f:\n",
        "            torch.save(model.state_dict(),f)\n",
        "            \n",
        "\n",
        "\n",
        "train()\n",
        "\n",
        "\n",
        "\n",
        "\n",
        "\n",
        "\n",
        "\n",
        "        "
      ],
      "metadata": {
        "id": "gCTIQgBrljd0",
        "colab": {
          "base_uri": "https://localhost:8080/"
        },
        "outputId": "60dbb708-dfb7-44e1-d868-99139fb5fe13"
      },
      "execution_count": null,
      "outputs": [
        {
          "output_type": "stream",
          "name": "stdout",
          "text": [
            "mkdir: path should be string, bytes or os.PathLike, not module\n",
            "1 7700.33\n"
          ]
        }
      ]
    },
    {
      "cell_type": "code",
      "source": [
        "import torch\n",
        "from torch.utils.data import Dataset, DataLoader\n",
        "import torch.nn as nn\n",
        "\n",
        "class Images(Dataset):\n",
        "    def __init__(self,X,y):\n",
        "        self.n_samples=X1.shape[0]\n",
        "\n",
        "        self.X=torch.from_numpy(X).reshape(-1,2,224,256).float()\n",
        "        #self.X2=torch.from_numpy(X2).reshape(-1,1,224,256).float()\n",
        "        self.X1=nn.functional\n",
        "        self.y=torch.from_numpy(y).reshape(-1,9).float()\n",
        "        self.y=nn.functional.normalize(self.y,dim=1)\n",
        "\n",
        "    def __getitem__(self,index):\n",
        "        return self.X[index],self.y[index]\n",
        "\n",
        "    def __len__(self):\n",
        "        return self.n_samples"
      ],
      "metadata": {
        "id": "7AewIpeznLO0"
      },
      "execution_count": null,
      "outputs": []
    },
    {
      "cell_type": "code",
      "source": [
        "places=os.listdir(path)\n",
        "for place in places:\n",
        "    if '.' in place:\n",
        "        places.remove(place)\n",
        "X1=np.empty((1,1,224,256))\n",
        "X2=np.empty((1,1,224,256))\n",
        "y=np.empty(1,9)\n",
        "for place in places:\n",
        "  x1,x2,Y=pickle.load(open(f'{place}_data.pickle','rb'))\n",
        "  X1=np.concatenate((X1,x1),axis=0)\n",
        "  X2=np.concatenate((X2,x2),axis=0)\n",
        "  y=np.concatenate((y,Y.reshape(-1,9)),axis=0)\n",
        "\n",
        "  "
      ],
      "metadata": {
        "id": "mk0JV2XaoIhx"
      },
      "execution_count": null,
      "outputs": []
    },
    {
      "cell_type": "code",
      "source": [
        "print(X1)"
      ],
      "metadata": {
        "colab": {
          "base_uri": "https://localhost:8080/",
          "height": 200
        },
        "id": "nOkJXJyxHusN",
        "outputId": "f55ed598-0bfb-40e3-f170-d6a0a9cf4060"
      },
      "execution_count": null,
      "outputs": [
        {
          "output_type": "error",
          "ename": "NameError",
          "evalue": "ignored",
          "traceback": [
            "\u001b[0;31m---------------------------------------------------------------------------\u001b[0m",
            "\u001b[0;31mNameError\u001b[0m                                 Traceback (most recent call last)",
            "\u001b[0;32m<ipython-input-10-5b11fad6a2ac>\u001b[0m in \u001b[0;36m<module>\u001b[0;34m()\u001b[0m\n\u001b[0;32m----> 1\u001b[0;31m \u001b[0mprint\u001b[0m\u001b[0;34m(\u001b[0m\u001b[0mX1\u001b[0m\u001b[0;34m)\u001b[0m\u001b[0;34m\u001b[0m\u001b[0;34m\u001b[0m\u001b[0m\n\u001b[0m",
            "\u001b[0;31mNameError\u001b[0m: name 'X1' is not defined"
          ]
        }
      ]
    },
    {
      "cell_type": "code",
      "source": [
        "import torch\n",
        "from torch.utils.data import Dataset,DataLoader\n",
        "import numpy as np\n",
        "import pandas as pd\n",
        "import cv2 as cv\n",
        "\n",
        "class Image_dataset(Dataset):\n",
        "  def __init__(self,training_indexs):\n",
        "    self.path='all_images'\n",
        "    self.mats=pd.read_csv('all_images_mat.csv')\n",
        "    self.n_samples=len(training_indexs)\n",
        "    self.indexes=np.arange(0,self.n_samples)\n",
        "    self.index_map={}\n",
        "    for index in self.indexes:\n",
        "      self.index_map[index]=training_indexs[index]\n",
        "    \n",
        "  def __len__(self):\n",
        "    return self.n_samples\n",
        "\n",
        "  def __getitem__(self,idx):\n",
        "    x1=cv.imread(f'all_images/{self.index_map[idx]}_1.jpg',cv.IMREAD_GRAYSCALE)\n",
        "    x2=cv.imread(f'all_images/{self.index_map[idx]}_2.jpg',cv.IMREAD_GRAYSCALE)\n",
        "    x=np.array([x1,x2])\n",
        "    y=self.mats.iloc[idx]['mat'].split(' ')\n",
        "    y=np.array(y).astype(float)\n",
        "    y=y/np.max(y)\n",
        "    return torch.from_numpy(x).float(),torch.from_numpy(y).float()"
      ],
      "metadata": {
        "id": "qcn2rDL0WZc4"
      },
      "execution_count": 73,
      "outputs": []
    },
    {
      "cell_type": "code",
      "source": [
        "print(np.arange(0,10))\n"
      ],
      "metadata": {
        "id": "mgpukM4IhdvE",
        "outputId": "df2e89be-59a3-48c3-d345-6a21e660fe88",
        "colab": {
          "base_uri": "https://localhost:8080/"
        }
      },
      "execution_count": 58,
      "outputs": [
        {
          "output_type": "stream",
          "name": "stdout",
          "text": [
            "[0 1 2 3 4 5 6 7 8 9]\n"
          ]
        }
      ]
    },
    {
      "cell_type": "code",
      "source": [
        "y=[]\n",
        "for place in places:\n",
        "  pairs=pd.read_csv(f'train/{place}/pair_covisibility.csv')\n",
        "  pairs=pairs[pairs['covisibility']>=0.1]\n",
        "  print(place,len(pairs))\n",
        "  for index,pair in pairs.iterrows():\n",
        "    fundamental_mat=pair['fundamental_matrix']\n",
        "    y.append(fundamental_mat)\n",
        "    \n",
        "\n",
        "\n"
      ],
      "metadata": {
        "id": "6QBL61ATtkov",
        "outputId": "ec7123cc-578d-439b-dc53-ec34bb54f440",
        "colab": {
          "base_uri": "https://localhost:8080/"
        }
      },
      "execution_count": 54,
      "outputs": [
        {
          "output_type": "stream",
          "name": "stdout",
          "text": [
            "colosseum_exterior 65986\n",
            "sacre_coeur 34780\n",
            "taj_mahal 76229\n",
            "st_peters_square 175024\n",
            "grand_place_brussels 12316\n",
            "lincoln_memorial_statue 21401\n",
            "british_museum 14793\n",
            "trevi_fountain 243405\n",
            "sagrada_familia 3832\n",
            "st_pauls_cathedral 9626\n",
            "piazza_san_marco 1475\n",
            "notre_dame_front_facade 322226\n",
            "temple_nara_japan 22716\n",
            "pantheon_exterior 48198\n",
            "brandenburg_gate 50575\n",
            "buckingham_palace 82085\n"
          ]
        }
      ]
    },
    {
      "cell_type": "code",
      "source": [
        "g=np.ones(9)\n",
        "f=f'{g}'\n",
        "\n",
        "print(k)"
      ],
      "metadata": {
        "id": "8GxkOK_0tr6n",
        "outputId": "40726279-b4ae-4471-ccfb-3398957b5485",
        "colab": {
          "base_uri": "https://localhost:8080/"
        }
      },
      "execution_count": 49,
      "outputs": [
        {
          "output_type": "stream",
          "name": "stdout",
          "text": [
            "[1. 1. 1. 1. 1. 1. 1. 1. 1.]\n"
          ]
        }
      ]
    },
    {
      "cell_type": "code",
      "source": [
        "df=pd.DataFrame(y,columns=['mat'])\n",
        "df.to_csv('all_images_mat.csv')"
      ],
      "metadata": {
        "id": "Wyfu6J7MuhFT"
      },
      "execution_count": 55,
      "outputs": []
    },
    {
      "cell_type": "code",
      "source": [
        "g=pd.read_csv('all_images_mat.csv')\n"
      ],
      "metadata": {
        "id": "H3heNpA0wG8L"
      },
      "execution_count": 56,
      "outputs": []
    },
    {
      "cell_type": "code",
      "source": [
        "print(len(g))"
      ],
      "metadata": {
        "id": "qKUSdzT0wNZ0",
        "outputId": "6a9ffdc8-aa0d-47c5-d08f-f0f703d7222d",
        "colab": {
          "base_uri": "https://localhost:8080/"
        }
      },
      "execution_count": 57,
      "outputs": [
        {
          "output_type": "stream",
          "name": "stdout",
          "text": [
            "1184667\n"
          ]
        }
      ]
    },
    {
      "cell_type": "code",
      "source": [
        ""
      ],
      "metadata": {
        "id": "ddgnt-PvwPpG"
      },
      "execution_count": null,
      "outputs": []
    }
  ]
}