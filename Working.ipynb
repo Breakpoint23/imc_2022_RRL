{
  "nbformat": 4,
  "nbformat_minor": 0,
  "metadata": {
    "colab": {
      "name": "Untitled5.ipynb",
      "provenance": [],
      "collapsed_sections": [],
      "machine_shape": "hm",
      "authorship_tag": "ABX9TyN6Fd8pGgzs5RJBgRht9VpK",
      "include_colab_link": true
    },
    "kernelspec": {
      "name": "python3",
      "display_name": "Python 3"
    },
    "language_info": {
      "name": "python"
    }
  },
  "cells": [
    {
      "cell_type": "markdown",
      "metadata": {
        "id": "view-in-github",
        "colab_type": "text"
      },
      "source": [
        "<a href=\"https://colab.research.google.com/github/Breakpoint23/imc_2022_RRL/blob/Meet/Working.ipynb\" target=\"_parent\"><img src=\"https://colab.research.google.com/assets/colab-badge.svg\" alt=\"Open In Colab\"/></a>"
      ]
    },
    {
      "cell_type": "code",
      "execution_count": null,
      "metadata": {
        "colab": {
          "base_uri": "https://localhost:8080/"
        },
        "id": "OQNL4pQmWrv7",
        "outputId": "d25f2e9e-fac1-483e-bce2-ca824de33316"
      },
      "outputs": [
        {
          "output_type": "stream",
          "name": "stdout",
          "text": [
            "Requirement already satisfied: kaggle in /usr/local/lib/python3.7/dist-packages (1.5.12)\n",
            "Requirement already satisfied: requests in /usr/local/lib/python3.7/dist-packages (from kaggle) (2.23.0)\n",
            "Requirement already satisfied: certifi in /usr/local/lib/python3.7/dist-packages (from kaggle) (2021.10.8)\n",
            "Requirement already satisfied: six>=1.10 in /usr/local/lib/python3.7/dist-packages (from kaggle) (1.15.0)\n",
            "Requirement already satisfied: python-slugify in /usr/local/lib/python3.7/dist-packages (from kaggle) (6.1.1)\n",
            "Requirement already satisfied: python-dateutil in /usr/local/lib/python3.7/dist-packages (from kaggle) (2.8.2)\n",
            "Requirement already satisfied: tqdm in /usr/local/lib/python3.7/dist-packages (from kaggle) (4.64.0)\n",
            "Requirement already satisfied: urllib3 in /usr/local/lib/python3.7/dist-packages (from kaggle) (1.24.3)\n",
            "Requirement already satisfied: text-unidecode>=1.3 in /usr/local/lib/python3.7/dist-packages (from python-slugify->kaggle) (1.3)\n",
            "Requirement already satisfied: chardet<4,>=3.0.2 in /usr/local/lib/python3.7/dist-packages (from requests->kaggle) (3.0.4)\n",
            "Requirement already satisfied: idna<3,>=2.5 in /usr/local/lib/python3.7/dist-packages (from requests->kaggle) (2.10)\n"
          ]
        }
      ],
      "source": [
        "!pip install kaggle"
      ]
    },
    {
      "cell_type": "code",
      "source": [
        "mkdir ~/.kaggle"
      ],
      "metadata": {
        "id": "9Ma2kU39W29y"
      },
      "execution_count": 2,
      "outputs": []
    },
    {
      "cell_type": "code",
      "source": [
        ""
      ],
      "metadata": {
        "colab": {
          "base_uri": "https://localhost:8080/"
        },
        "id": "1cqHhXNwW49f",
        "outputId": "64b3febd-0055-4bd5-a4b1-01996d68b6bd"
      },
      "execution_count": null,
      "outputs": [
        {
          "output_type": "stream",
          "name": "stdout",
          "text": [
            "/content\n"
          ]
        }
      ]
    },
    {
      "cell_type": "code",
      "source": [
        "cp kaggle.json ~/.kaggle"
      ],
      "metadata": {
        "id": "gfGuQQ5PXCrR"
      },
      "execution_count": 3,
      "outputs": []
    },
    {
      "cell_type": "code",
      "source": [
        "!kaggle competitions download -c image-matching-challenge-2022"
      ],
      "metadata": {
        "colab": {
          "base_uri": "https://localhost:8080/"
        },
        "id": "QK1XRVMIXHzV",
        "outputId": "be0fd2bf-3687-4816-8a7d-6c0ee09f8ff3"
      },
      "execution_count": 4,
      "outputs": [
        {
          "output_type": "stream",
          "name": "stdout",
          "text": [
            "Warning: Your Kaggle API key is readable by other users on this system! To fix this, you can run 'chmod 600 /root/.kaggle/kaggle.json'\n",
            "Downloading image-matching-challenge-2022.zip to /content\n",
            "100% 2.30G/2.31G [01:11<00:00, 53.3MB/s]\n",
            "100% 2.31G/2.31G [01:11<00:00, 34.7MB/s]\n"
          ]
        }
      ]
    },
    {
      "cell_type": "code",
      "source": [
        "!unzip image-matching-challenge-2022.zip"
      ],
      "metadata": {
        "id": "ezeWs2ghXMvx"
      },
      "execution_count": null,
      "outputs": []
    },
    {
      "cell_type": "code",
      "source": [
        "import pandas as pd\n",
        "import numpy as np"
      ],
      "metadata": {
        "id": "d8EHFBmxXgGS"
      },
      "execution_count": null,
      "outputs": []
    },
    {
      "cell_type": "code",
      "source": [
        "import torch\n",
        "import torch.nn as nn\n",
        "from torch.autograd import Variable\n",
        "from torchsummary import summary\n",
        "import numpy as np\n",
        "class SuperPointNet(torch.nn.Module):\n",
        "  \"\"\" Pytorch definition of SuperPoint Network. \"\"\"\n",
        "  def __init__(self):\n",
        "    super(SuperPointNet, self).__init__()\n",
        "    self.relu = torch.nn.ReLU(inplace=True)\n",
        "    self.pool = torch.nn.MaxPool2d(kernel_size=2, stride=2)\n",
        "    c1, c2, c3, c4, c5, d1 = 64, 64, 128, 128, 256, 256\n",
        "    # Shared Encoder.\n",
        "    self.conv1a = torch.nn.Conv2d(1, c1, kernel_size=3, stride=1, padding=1)\n",
        "    self.conv1b = torch.nn.Conv2d(c1, c1, kernel_size=3, stride=1, padding=1)\n",
        "    self.conv2a = torch.nn.Conv2d(c1, c2, kernel_size=3, stride=1, padding=1)\n",
        "    self.conv2b = torch.nn.Conv2d(c2, c2, kernel_size=3, stride=1, padding=1)\n",
        "    self.conv3a = torch.nn.Conv2d(c2, c3, kernel_size=3, stride=1, padding=1)\n",
        "    self.conv3b = torch.nn.Conv2d(c3, c3, kernel_size=3, stride=1, padding=1)\n",
        "    self.conv4a = torch.nn.Conv2d(c3, c4, kernel_size=3, stride=1, padding=1)\n",
        "    self.conv4b = torch.nn.Conv2d(c4, c4, kernel_size=3, stride=1, padding=1)\n",
        "    # Detector Head.\n",
        "    self.convPa = torch.nn.Conv2d(c4, c5, kernel_size=3, stride=1, padding=1)\n",
        "    self.convPb = torch.nn.Conv2d(c5, 65, kernel_size=1, stride=1, padding=0)\n",
        "    # Descriptor Head.\n",
        "    self.convDa = torch.nn.Conv2d(c4, c5, kernel_size=3, stride=1, padding=1)\n",
        "    self.convDb = torch.nn.Conv2d(c5, d1, kernel_size=1, stride=1, padding=0)\n",
        "\n",
        "  def forward(self, x):\n",
        "    \"\"\" Forward pass that jointly computes unprocessed point and descriptor\n",
        "    tensors.\n",
        "    Input\n",
        "      x: Image pytorch tensor shaped N x 1 x H x W.\n",
        "    Output\n",
        "      semi: Output point pytorch tensor shaped N x 65 x H/8 x W/8.\n",
        "      desc: Output descriptor pytorch tensor shaped N x 256 x H/8 x W/8.\n",
        "    \"\"\"\n",
        "    # Shared Encoder.\n",
        "    x = self.relu(self.conv1a(x))\n",
        "    x = self.relu(self.conv1b(x))\n",
        "    x = self.pool(x)\n",
        "    x = self.relu(self.conv2a(x))\n",
        "    x = self.relu(self.conv2b(x))\n",
        "    x = self.pool(x)\n",
        "    x = self.relu(self.conv3a(x))\n",
        "    x = self.relu(self.conv3b(x))\n",
        "    x = self.pool(x)\n",
        "    x = self.relu(self.conv4a(x))\n",
        "    x = self.relu(self.conv4b(x))\n",
        "    # Detector Head.\n",
        "    cPa = self.relu(self.convPa(x))\n",
        "    semi = self.convPb(cPa)\n",
        "    # Descriptor Head.\n",
        "    cDa = self.relu(self.convDa(x))\n",
        "    desc = self.convDb(cDa)\n",
        "    dn = torch.norm(desc, p=2, dim=1) # Compute the norm.\n",
        "    desc = desc.div(torch.unsqueeze(dn, 1)) # Divide by norm to normalize.\n",
        "    return semi, desc\n",
        "\n",
        "class FunRec(nn.Module):\n",
        "  \"\"\"\n",
        "  How to reconstruct fundamental matrix\n",
        "  Need 12 parameters before the reconstruction\n",
        "  each image's output is a tensor of shape (N, 65+256, H/8, W/8)\n",
        "  for two images ,shape would be (N,2*(65+256), H/8, W/8)\n",
        "  (f1,cx1,cy1,f2,cx2,cy2,rx,ry,rz,tx,ty,tz)\n",
        "  F=K2^-T*t*R*K1^-1\n",
        "  \"\"\"\n",
        "  def __init__(self):\n",
        "    super(FunRec, self).__init__()\n",
        "    self.device=torch.device('cuda' if torch.cuda.is_available() else 'cpu')\n",
        "    self.relu=nn.ReLU(inplace=True)\n",
        "    self.net = SuperPointNet()\n",
        "    self.net.load_state_dict(torch.load('superpoint_v1.pth'))\n",
        "    self.net.to(self.device)\n",
        "    self.input_norm=nn.BatchNorm2d(num_features=1)\n",
        "    self.conv1a=nn.Conv2d(in_channels=2*(65+256),out_channels=64,kernel_size=3,stride=1)\n",
        "    #outshape=(N,64,H/8,W/8)\n",
        "    self.batchnorm1=nn.BatchNorm2d(num_features=64)\n",
        "    self.conv2a=nn.Conv2d(in_channels=64,out_channels=32,kernel_size=3,stride=1)\n",
        "    #outshape=(N,32,H/8,W/8)\n",
        "    self.batchnorm2=nn.BatchNorm2d(num_features=32)\n",
        "    self.dense1=nn.Linear(in_features=int(32*24*28),out_features=int(8*24*28))\n",
        "    self.dense2=nn.Linear(in_features=int(8*24*28),out_features=12)\n",
        "\n",
        "  def forward(self,x):\n",
        "    \"\"\"\n",
        "    x1: (N,65+256,H/8,W/8)\n",
        "    x2: (N,65+256,H/8,W/8)\n",
        "    \"\"\"\n",
        "    x1=torch.unsqueeze(x[:,0,:,:],1)\n",
        "    x2=torch.unsqueeze(x[:,1,:,:],1)\n",
        "    \n",
        "    x1=self.input_norm(x1)\n",
        "    x2=self.input_norm(x2)\n",
        "    x1semi,x1desc=self.net(x1)\n",
        "    x2semi,x2desc=self.net(x2)\n",
        "    #print(f'x1semi.shape={x1semi.shape},x1desc.shape={x1desc.shape},x2semi.shape={x2semi.shape},x2desc.shape={x2desc.shape}')\n",
        "    x1=torch.concat((x1semi,x2semi),1)\n",
        "    x2=torch.concat((x1desc,x2desc),1)\n",
        "    x=torch.cat((x1,x2),1)\n",
        "    x=self.conv1a(x)\n",
        "    x=self.relu(x)\n",
        "    x=self.batchnorm1(x)\n",
        "    x=self.conv2a(x)\n",
        "    x=self.relu(x)\n",
        "    x=self.batchnorm2(x)\n",
        "    #print(x.shape,32*(224/8)*(256/8),32*24*28)\n",
        "    x=x.view(x.shape[0],-1)\n",
        "    \n",
        "    x=self.dense1(x)\n",
        "    x=self.relu(x)\n",
        "    x=self.dense2(x)\n",
        "    tensor_0=torch.zeros(1,requires_grad=True).to(self.device)\n",
        "    tensor_1=torch.ones(1,requires_grad=True).to(self.device)\n",
        "    \n",
        "    for i,sample in enumerate(x):\n",
        "      #print(sample)\n",
        "      f1,cx1,cy1,f2,cx2,cy2,rx,ry,rz,tx,ty,tz=sample\n",
        "      f1,cx1,cy1,f2,cx2,cy2,rx,ry,rz,tx,ty,tz=f1.reshape(1),cx1.reshape(1),cy1.reshape(1),f2.reshape(1),cx2.reshape(1),cy2.reshape(1),rx.reshape(1),ry.reshape(1),rz.reshape(1),tx.reshape(1),ty.reshape(1),tz.reshape(1)\n",
        "      #print(torch.stack([f1,tensor_0,cx1]))\n",
        "      K1=torch.stack([torch.stack([f1,tensor_0,cx1]),torch.stack([tensor_0,f1,cy1]),torch.stack([tensor_0,tensor_0,tensor_1])]).reshape(3,3)\n",
        "      K2=torch.stack([torch.stack([f2,tensor_0,cx2]),torch.stack([tensor_0,f2,cy2]),torch.stack([tensor_0,tensor_0,tensor_1])]).reshape(3,3)\n",
        "      Rx=torch.stack([torch.stack([tensor_1,tensor_0,tensor_0]),torch.stack([tensor_0,torch.cos(rx),-torch.sin(rx)]),torch.stack([tensor_0,torch.sin(rx),torch.cos(rx)])]).reshape(3,3)\n",
        "      Ry=torch.stack([torch.stack([torch.cos(ry),tensor_0,torch.sin(ry)]),torch.stack([tensor_0,tensor_1,tensor_0]),torch.stack([-torch.sin(ry),tensor_0,torch.cos(ry)])]).reshape(3,3)\n",
        "      Rz=torch.stack([torch.stack([torch.cos(rz),-torch.sin(rz),tensor_0]),torch.stack([torch.sin(rz),torch.cos(rz),tensor_0]),torch.stack([tensor_0,tensor_0,tensor_1])]).reshape(3,3)\n",
        "      tx=torch.stack([torch.stack([tensor_0,-tz,ty]),torch.stack([tz,tensor_0,-tx]),torch.stack([-ty,tx,tensor_0])]).reshape(3,3)\n",
        "      R=torch.matmul(torch.matmul(Rx,Ry),Rz)\n",
        "      sample_f=torch.matmul(torch.matmul(torch.inverse(K2),tx),torch.matmul(R,torch.inverse(K1)))\n",
        "      sample_f=sample_f.reshape(1,9)\n",
        "      if i==0:\n",
        "        y=sample_f\n",
        "      else:\n",
        "        y=torch.cat((y,sample_f),0)\n",
        "      #print(y.shape)\n",
        "    y=y.reshape(y.shape[0],9)\n",
        "    y=nn.functional.normalize(y,dim=1)\n",
        "    return y\n"
      ],
      "metadata": {
        "id": "BXFTPIv2Zt1E"
      },
      "execution_count": 27,
      "outputs": []
    },
    {
      "cell_type": "code",
      "source": [
        "import cv2 as cv\n",
        "import numpy as np\n",
        "import pandas as pd\n",
        "import torch \n",
        "import torch.nn as nn\n",
        "import os,time\n",
        "import matplotlib.pyplot as plt\n",
        "import matplotlib.image as mpimg\n",
        "import pickle\n",
        "# path to training data\n",
        "\n",
        "path='train'\n",
        "\n",
        "#list of directories\n",
        "\n",
        "\n",
        "X1=np.empty((1,1,224,256))\n",
        "X2=np.empty((1,1,224,256))\n",
        "y=np.empty((1,9))\n",
        "\n",
        "places=os.listdir(path)\n",
        "for place in places:\n",
        "    if '.' in place:\n",
        "        places.remove(place)\n",
        "prev_time=time.time()    \n",
        "for place in places:\n",
        "    pairs=pd.read_csv(path+f'/{place}/pair_covisibility.csv')\n",
        "    pairs=pairs[pairs['covisibility']>0.1]\n",
        "    pairs=pairs.reset_index()\n",
        "    x1=[]\n",
        "    x2=[]\n",
        "    Y=[]\n",
        "        \n",
        "    for index,pair in pairs.iterrows():\n",
        "        if len(x1)>2000:\n",
        "            break\n",
        "        try:                \n",
        "            ids=pair['pair'].split('-')\n",
        "            img1=cv.imread(path+f'/{place}/images/{ids[0]}.jpg',cv.IMREAD_GRAYSCALE)\n",
        "                #print(img1)\n",
        "            if img1.shape[0]>img1.shape[1]:\n",
        "                img1=cv.rotate(img1,cv.ROTATE_90_CLOCKWISE)\n",
        "            img2=cv.imread(path+f'/{place}/images/{ids[1]}.jpg',cv.IMREAD_GRAYSCALE)\n",
        "            if img2.shape[0]>img2.shape[1]:\n",
        "                img2=cv.rotate(img2,cv.ROTATE_90_CLOCKWISE)\n",
        "            img1,img2=cv.resize(img1,(256,224)),cv.resize(img2,(256,224))\n",
        "            img1,img2=np.array(img1),np.array(img2)\n",
        "            img1,img2=img1.reshape(1,224,256),img2.reshape(1,224,256)\n",
        "            x1.append(img1)\n",
        "            x2.append(img2)\n",
        "                #X1,X2=np.concatenate((X1,img1),axis=0),np.concatenate((X2,img2),axis=0)\n",
        "            Fun_mat=pair['fundamental_matrix']\n",
        "            Fun_mat=Fun_mat.split(' ')\n",
        "            Fun_mat=np.array(Fun_mat).astype(float)\n",
        "            Fun_mat=Fun_mat.reshape(1,9)\n",
        "            Y.append(Fun_mat)\n",
        "            if time.time()-prev_time>10:\n",
        "                print(f'{place} {index}/{len(pairs)}')\n",
        "                prev_time=time.time()\n",
        "                #y=np.concatenate((y,Fun_mat),axis=0)\n",
        "        except Exception as e:\n",
        "              print(e)\n",
        "              break\n",
        "    x1=np.array(x1)\n",
        "    x2=np.array(x2)\n",
        "    Y=np.array(Y).reshape(-1,9)   \n",
        "    X1=np.concatenate((X1,np.array(x1)),axis=0)\n",
        "    X2=np.concatenate((X2,np.array(x1)),axis=0)\n",
        "    y=np.concatenate((y,Y),axis=0)\n",
        "    print(place,x1.shape,x2.shape,Y.shape)\n",
        "    break"
      ],
      "metadata": {
        "id": "-HSbePEQLQay",
        "colab": {
          "base_uri": "https://localhost:8080/"
        },
        "outputId": "703d6290-2f42-4d32-a604-9f255e1c01c0"
      },
      "execution_count": 2,
      "outputs": [
        {
          "output_type": "stream",
          "name": "stdout",
          "text": [
            "colosseum_exterior 530/65808\n",
            "colosseum_exterior 1096/65808\n",
            "colosseum_exterior 1602/65808\n",
            "colosseum_exterior (2001, 1, 224, 256) (2001, 1, 224, 256) (2001, 9)\n"
          ]
        }
      ]
    },
    {
      "cell_type": "code",
      "source": [
        "\n",
        "\n",
        "from sklearn import model_selection\n",
        "import torch\n",
        "import torch.nn as nn\n",
        "import numpy as np\n",
        "import cv2 as cv\n",
        "import os\n",
        "\n",
        "try:\n",
        "  os.mkdir(model_selection)\n",
        "except Exception as e:\n",
        "  print(e)\n",
        "\n",
        "from sklearn.metrics import confusion_matrix,classification_report\n",
        "\n",
        "import pickle\n",
        "from sklearn.model_selection import train_test_split\n",
        "from torch.utils.data import DataLoader\n",
        "\n",
        "import matplotlib.pyplot as plt\n",
        "\n",
        "places=os.listdir(path)\n",
        "for place in places:\n",
        "    if '.' in place:\n",
        "      places.remove(place)\n",
        "\n",
        "def train(X1,X2,y):\n",
        "    device=torch.device(\"cuda:0\" if torch.cuda.is_available() else \"cpu\")\n",
        "    losses=[]\n",
        "    X1=np.array(X1)\n",
        "    X2=np.array(X2)\n",
        "    y=np.array(y).reshape(-1,9)\n",
        "    #X1,X2,y=pickle.load(open('trial_data.pickle','rb'))\n",
        "    X=np.concatenate((X1,X2),axis=1)\n",
        "    X_train,X_test,y_train,y_test=train_test_split(X,y,test_size=0.35,random_state=42)\n",
        "    print(f'Train_size:{X_train.shape},Test_size:{X_test.shape}')\n",
        "    \n",
        "    model=FunRec()\n",
        "    model.to(device)\n",
        "    optimizer=torch.optim.Adam(model.parameters(),lr=0.001)\n",
        "    loss_fn=nn.MSELoss()\n",
        "    train_loss=[]\n",
        "    train_accuracy=[]\n",
        "    train_dataset=Images(X_train,y_train)\n",
        "    test_dataset=Images(X_test,y_test)\n",
        "    train_loader=DataLoader(train_dataset,batch_size=35,shuffle=True,num_workers=2)\n",
        "    test_loader=DataLoader(test_dataset,batch_size=35,shuffle=True,num_workers=2)\n",
        "    train_loss=[]\n",
        "    test_loss=[]\n",
        "    for epoch in range(30):\n",
        "      train_test_loss=[]\n",
        "      for i,(x1,y) in enumerate(train_loader):\n",
        "            x1=x1.to(device)\n",
        "            #x2=x2.to(device)\n",
        "            y=y.to(device)\n",
        "            optimizer.zero_grad()\n",
        "            y_pred=model(x1)\n",
        "            loss=loss_fn(y_pred,y)\n",
        "            loss.backward()\n",
        "            optimizer.step()    \n",
        "      with torch.no_grad():\n",
        "          true_labels=[]\n",
        "          final_output=[]\n",
        "          n_correct=0\n",
        "          n_samples=0\n",
        "          train_losses=[]\n",
        "          for i,(x1,y) in enumerate(train_loader):\n",
        "            x1=x1.to(device)\n",
        "           # x2=x2.to(device)\n",
        "            y=y.to(device)\n",
        "            y_pred=model(x1)\n",
        "            loss=loss_fn(y_pred,y)\n",
        "            train_losses.append(loss.item())\n",
        "          train_loss.append(np.nanmean(train_losses))\n",
        "          with open('train_loss.txt','wb') as f:\n",
        "            np.savetxt(f,np.array(train_loss))\n",
        "          print(f'epoch:{epoch},loss:{train_loss[-1]}')\n",
        "          test_losses=[]\n",
        "          for i,(x1,y) in enumerate(test_loader):\n",
        "            x1=x1.to(device)\n",
        "            #x2=x2.to(device)\n",
        "            y=y.to(device)\n",
        "            y_pred=model(x1)\n",
        "            loss=loss_fn(y_pred,y)\n",
        "            test_losses.append(loss.item())\n",
        "          test_loss.append(np.nanmean(test_losses))\n",
        "          with open('test_loss.txt','wb') as f:\n",
        "            np.savetxt(f,np.array(test_loss))\n",
        "          print(f'epoch:{epoch},test_loss:{test_loss[-1]}')\n",
        "\n",
        "          with open(f'{epoch}_model.h5','wb') as f:\n",
        "            torch.save(model.state_dict(),f)\n",
        "            \n",
        "\n",
        "print(X1.shape)\n",
        "train(x1,x2,Y)\n",
        "\n",
        "\n",
        "\n",
        "\n",
        "\n",
        "\n",
        "\n",
        "        "
      ],
      "metadata": {
        "id": "gCTIQgBrljd0",
        "colab": {
          "base_uri": "https://localhost:8080/",
          "height": 1000
        },
        "outputId": "f7453bf4-d0e4-4a6b-ae7e-44140a9e4c40"
      },
      "execution_count": 29,
      "outputs": [
        {
          "output_type": "stream",
          "name": "stdout",
          "text": [
            "mkdir: path should be string, bytes or os.PathLike, not module\n",
            "(1, 1, 224, 256)\n",
            "Train_size:(588, 2, 224, 256),Test_size:(318, 2, 224, 256)\n",
            "epoch:0,loss:0.3179106116294861\n",
            "epoch:0,test_loss:0.27073249220848083\n",
            "epoch:1,loss:0.3886377513408661\n",
            "epoch:1,test_loss:0.05995054915547371\n",
            "epoch:2,loss:0.32518094778060913\n",
            "epoch:2,test_loss:0.12300770729780197\n",
            "epoch:3,loss:0.28198957443237305\n",
            "epoch:3,test_loss:0.27593013644218445\n",
            "epoch:4,loss:0.21096967160701752\n",
            "epoch:4,test_loss:0.2254086285829544\n",
            "epoch:5,loss:0.23265868425369263\n",
            "epoch:5,test_loss:0.2215471714735031\n",
            "epoch:6,loss:0.21821874380111694\n",
            "epoch:6,test_loss:0.23672649264335632\n",
            "epoch:7,loss:0.24371761083602905\n",
            "epoch:7,test_loss:0.25407373905181885\n",
            "epoch:8,loss:0.24721258878707886\n",
            "epoch:8,test_loss:0.1868923455476761\n",
            "epoch:9,loss:0.19851309061050415\n",
            "epoch:9,test_loss:0.18905633687973022\n",
            "epoch:10,loss:0.24669606983661652\n",
            "epoch:10,test_loss:0.25622615218162537\n",
            "epoch:11,loss:0.24365288019180298\n",
            "epoch:11,test_loss:0.25353163480758667\n",
            "epoch:12,loss:0.2382807731628418\n",
            "epoch:12,test_loss:0.19580182433128357\n",
            "epoch:13,loss:0.23131220042705536\n",
            "epoch:13,test_loss:0.2419503778219223\n",
            "epoch:14,loss:0.2208082526922226\n",
            "epoch:14,test_loss:0.234202042222023\n",
            "epoch:15,loss:0.22439177334308624\n",
            "epoch:15,test_loss:0.2139466553926468\n",
            "epoch:16,loss:0.2192443609237671\n",
            "epoch:16,test_loss:0.22962886095046997\n",
            "epoch:17,loss:0.2277035117149353\n",
            "epoch:17,test_loss:0.2173684984445572\n",
            "epoch:18,loss:0.2280244082212448\n",
            "epoch:18,test_loss:0.22671501338481903\n",
            "epoch:19,loss:0.22663988173007965\n",
            "epoch:19,test_loss:0.2163546085357666\n",
            "epoch:20,loss:0.22394853830337524\n",
            "epoch:20,test_loss:0.21365615725517273\n",
            "epoch:21,loss:0.22426176071166992\n",
            "epoch:21,test_loss:0.2098817378282547\n",
            "epoch:22,loss:0.22605817019939423\n",
            "epoch:22,test_loss:0.23632536828517914\n",
            "epoch:23,loss:0.2180488407611847\n",
            "epoch:23,test_loss:0.2365017980337143\n",
            "epoch:24,loss:0.22587448358535767\n",
            "epoch:24,test_loss:0.20804354548454285\n",
            "epoch:25,loss:0.22028154134750366\n",
            "epoch:25,test_loss:0.23519828915596008\n"
          ]
        },
        {
          "output_type": "error",
          "ename": "RuntimeError",
          "evalue": "ignored",
          "traceback": [
            "\u001b[0;31m---------------------------------------------------------------------------\u001b[0m",
            "\u001b[0;31mKeyboardInterrupt\u001b[0m                         Traceback (most recent call last)",
            "\u001b[0;32m/usr/local/lib/python3.7/dist-packages/torch/serialization.py\u001b[0m in \u001b[0;36msave\u001b[0;34m(obj, f, pickle_module, pickle_protocol, _use_new_zipfile_serialization)\u001b[0m\n\u001b[1;32m    379\u001b[0m             \u001b[0;32mwith\u001b[0m \u001b[0m_open_zipfile_writer\u001b[0m\u001b[0;34m(\u001b[0m\u001b[0mopened_file\u001b[0m\u001b[0;34m)\u001b[0m \u001b[0;32mas\u001b[0m \u001b[0mopened_zipfile\u001b[0m\u001b[0;34m:\u001b[0m\u001b[0;34m\u001b[0m\u001b[0;34m\u001b[0m\u001b[0m\n\u001b[0;32m--> 380\u001b[0;31m                 \u001b[0m_save\u001b[0m\u001b[0;34m(\u001b[0m\u001b[0mobj\u001b[0m\u001b[0;34m,\u001b[0m \u001b[0mopened_zipfile\u001b[0m\u001b[0;34m,\u001b[0m \u001b[0mpickle_module\u001b[0m\u001b[0;34m,\u001b[0m \u001b[0mpickle_protocol\u001b[0m\u001b[0;34m)\u001b[0m\u001b[0;34m\u001b[0m\u001b[0;34m\u001b[0m\u001b[0m\n\u001b[0m\u001b[1;32m    381\u001b[0m                 \u001b[0;32mreturn\u001b[0m\u001b[0;34m\u001b[0m\u001b[0;34m\u001b[0m\u001b[0m\n",
            "\u001b[0;32m/usr/local/lib/python3.7/dist-packages/torch/serialization.py\u001b[0m in \u001b[0;36m_save\u001b[0;34m(obj, zip_file, pickle_module, pickle_protocol)\u001b[0m\n\u001b[1;32m    603\u001b[0m         \u001b[0mnum_bytes\u001b[0m \u001b[0;34m=\u001b[0m \u001b[0mstorage\u001b[0m\u001b[0;34m.\u001b[0m\u001b[0mnbytes\u001b[0m\u001b[0;34m(\u001b[0m\u001b[0;34m)\u001b[0m\u001b[0;34m\u001b[0m\u001b[0;34m\u001b[0m\u001b[0m\n\u001b[0;32m--> 604\u001b[0;31m         \u001b[0mzip_file\u001b[0m\u001b[0;34m.\u001b[0m\u001b[0mwrite_record\u001b[0m\u001b[0;34m(\u001b[0m\u001b[0mname\u001b[0m\u001b[0;34m,\u001b[0m \u001b[0mstorage\u001b[0m\u001b[0;34m.\u001b[0m\u001b[0mdata_ptr\u001b[0m\u001b[0;34m(\u001b[0m\u001b[0;34m)\u001b[0m\u001b[0;34m,\u001b[0m \u001b[0mnum_bytes\u001b[0m\u001b[0;34m)\u001b[0m\u001b[0;34m\u001b[0m\u001b[0;34m\u001b[0m\u001b[0m\n\u001b[0m\u001b[1;32m    605\u001b[0m \u001b[0;34m\u001b[0m\u001b[0m\n",
            "\u001b[0;31mKeyboardInterrupt\u001b[0m: ",
            "\nDuring handling of the above exception, another exception occurred:\n",
            "\u001b[0;31mRuntimeError\u001b[0m                              Traceback (most recent call last)",
            "\u001b[0;32m<ipython-input-29-43f6e9e0319e>\u001b[0m in \u001b[0;36m<module>\u001b[0;34m()\u001b[0m\n\u001b[1;32m     95\u001b[0m \u001b[0;34m\u001b[0m\u001b[0m\n\u001b[1;32m     96\u001b[0m \u001b[0mprint\u001b[0m\u001b[0;34m(\u001b[0m\u001b[0mX1\u001b[0m\u001b[0;34m.\u001b[0m\u001b[0mshape\u001b[0m\u001b[0;34m)\u001b[0m\u001b[0;34m\u001b[0m\u001b[0;34m\u001b[0m\u001b[0m\n\u001b[0;32m---> 97\u001b[0;31m \u001b[0mtrain\u001b[0m\u001b[0;34m(\u001b[0m\u001b[0mx1\u001b[0m\u001b[0;34m,\u001b[0m\u001b[0mx2\u001b[0m\u001b[0;34m,\u001b[0m\u001b[0mY\u001b[0m\u001b[0;34m)\u001b[0m\u001b[0;34m\u001b[0m\u001b[0;34m\u001b[0m\u001b[0m\n\u001b[0m\u001b[1;32m     98\u001b[0m \u001b[0;34m\u001b[0m\u001b[0m\n\u001b[1;32m     99\u001b[0m \u001b[0;34m\u001b[0m\u001b[0m\n",
            "\u001b[0;32m<ipython-input-29-43f6e9e0319e>\u001b[0m in \u001b[0;36mtrain\u001b[0;34m(X1, X2, y)\u001b[0m\n\u001b[1;32m     91\u001b[0m \u001b[0;34m\u001b[0m\u001b[0m\n\u001b[1;32m     92\u001b[0m           \u001b[0;32mwith\u001b[0m \u001b[0mopen\u001b[0m\u001b[0;34m(\u001b[0m\u001b[0;34mf'{epoch}_model.h5'\u001b[0m\u001b[0;34m,\u001b[0m\u001b[0;34m'wb'\u001b[0m\u001b[0;34m)\u001b[0m \u001b[0;32mas\u001b[0m \u001b[0mf\u001b[0m\u001b[0;34m:\u001b[0m\u001b[0;34m\u001b[0m\u001b[0;34m\u001b[0m\u001b[0m\n\u001b[0;32m---> 93\u001b[0;31m             \u001b[0mtorch\u001b[0m\u001b[0;34m.\u001b[0m\u001b[0msave\u001b[0m\u001b[0;34m(\u001b[0m\u001b[0mmodel\u001b[0m\u001b[0;34m.\u001b[0m\u001b[0mstate_dict\u001b[0m\u001b[0;34m(\u001b[0m\u001b[0;34m)\u001b[0m\u001b[0;34m,\u001b[0m\u001b[0mf\u001b[0m\u001b[0;34m)\u001b[0m\u001b[0;34m\u001b[0m\u001b[0;34m\u001b[0m\u001b[0m\n\u001b[0m\u001b[1;32m     94\u001b[0m \u001b[0;34m\u001b[0m\u001b[0m\n\u001b[1;32m     95\u001b[0m \u001b[0;34m\u001b[0m\u001b[0m\n",
            "\u001b[0;32m/usr/local/lib/python3.7/dist-packages/torch/serialization.py\u001b[0m in \u001b[0;36msave\u001b[0;34m(obj, f, pickle_module, pickle_protocol, _use_new_zipfile_serialization)\u001b[0m\n\u001b[1;32m    379\u001b[0m             \u001b[0;32mwith\u001b[0m \u001b[0m_open_zipfile_writer\u001b[0m\u001b[0;34m(\u001b[0m\u001b[0mopened_file\u001b[0m\u001b[0;34m)\u001b[0m \u001b[0;32mas\u001b[0m \u001b[0mopened_zipfile\u001b[0m\u001b[0;34m:\u001b[0m\u001b[0;34m\u001b[0m\u001b[0;34m\u001b[0m\u001b[0m\n\u001b[1;32m    380\u001b[0m                 \u001b[0m_save\u001b[0m\u001b[0;34m(\u001b[0m\u001b[0mobj\u001b[0m\u001b[0;34m,\u001b[0m \u001b[0mopened_zipfile\u001b[0m\u001b[0;34m,\u001b[0m \u001b[0mpickle_module\u001b[0m\u001b[0;34m,\u001b[0m \u001b[0mpickle_protocol\u001b[0m\u001b[0;34m)\u001b[0m\u001b[0;34m\u001b[0m\u001b[0;34m\u001b[0m\u001b[0m\n\u001b[0;32m--> 381\u001b[0;31m                 \u001b[0;32mreturn\u001b[0m\u001b[0;34m\u001b[0m\u001b[0;34m\u001b[0m\u001b[0m\n\u001b[0m\u001b[1;32m    382\u001b[0m         \u001b[0m_legacy_save\u001b[0m\u001b[0;34m(\u001b[0m\u001b[0mobj\u001b[0m\u001b[0;34m,\u001b[0m \u001b[0mopened_file\u001b[0m\u001b[0;34m,\u001b[0m \u001b[0mpickle_module\u001b[0m\u001b[0;34m,\u001b[0m \u001b[0mpickle_protocol\u001b[0m\u001b[0;34m)\u001b[0m\u001b[0;34m\u001b[0m\u001b[0;34m\u001b[0m\u001b[0m\n\u001b[1;32m    383\u001b[0m \u001b[0;34m\u001b[0m\u001b[0m\n",
            "\u001b[0;32m/usr/local/lib/python3.7/dist-packages/torch/serialization.py\u001b[0m in \u001b[0;36m__exit__\u001b[0;34m(self, *args)\u001b[0m\n\u001b[1;32m    258\u001b[0m \u001b[0;34m\u001b[0m\u001b[0m\n\u001b[1;32m    259\u001b[0m     \u001b[0;32mdef\u001b[0m \u001b[0m__exit__\u001b[0m\u001b[0;34m(\u001b[0m\u001b[0mself\u001b[0m\u001b[0;34m,\u001b[0m \u001b[0;34m*\u001b[0m\u001b[0margs\u001b[0m\u001b[0;34m)\u001b[0m \u001b[0;34m->\u001b[0m \u001b[0;32mNone\u001b[0m\u001b[0;34m:\u001b[0m\u001b[0;34m\u001b[0m\u001b[0;34m\u001b[0m\u001b[0m\n\u001b[0;32m--> 260\u001b[0;31m         \u001b[0mself\u001b[0m\u001b[0;34m.\u001b[0m\u001b[0mfile_like\u001b[0m\u001b[0;34m.\u001b[0m\u001b[0mwrite_end_of_file\u001b[0m\u001b[0;34m(\u001b[0m\u001b[0;34m)\u001b[0m\u001b[0;34m\u001b[0m\u001b[0;34m\u001b[0m\u001b[0m\n\u001b[0m\u001b[1;32m    261\u001b[0m         \u001b[0mself\u001b[0m\u001b[0;34m.\u001b[0m\u001b[0mbuffer\u001b[0m\u001b[0;34m.\u001b[0m\u001b[0mflush\u001b[0m\u001b[0;34m(\u001b[0m\u001b[0;34m)\u001b[0m\u001b[0;34m\u001b[0m\u001b[0;34m\u001b[0m\u001b[0m\n\u001b[1;32m    262\u001b[0m \u001b[0;34m\u001b[0m\u001b[0m\n",
            "\u001b[0;31mRuntimeError\u001b[0m: [enforce fail at inline_container.cc:300] . unexpected pos 6324736 vs 6324632"
          ]
        }
      ]
    },
    {
      "cell_type": "code",
      "source": [
        "import torch\n",
        "from torch.utils.data import Dataset, DataLoader\n",
        "import torch.nn as nn\n",
        "\n",
        "class Images(Dataset):\n",
        "    def __init__(self,X,y):\n",
        "        self.n_samples=X1.shape[0]\n",
        "\n",
        "        self.X=torch.from_numpy(X).reshape(-1,2,224,256).float()\n",
        "        #self.X2=torch.from_numpy(X2).reshape(-1,1,224,256).float()\n",
        "        self.X1=nn.functional\n",
        "        self.y=torch.from_numpy(y).reshape(-1,9).float()\n",
        "        self.y=nn.functional.normalize(self.y,dim=1)\n",
        "\n",
        "    def __getitem__(self,index):\n",
        "        return self.X[index],self.y[index]\n",
        "\n",
        "    def __len__(self):\n",
        "        return self.n_samples"
      ],
      "metadata": {
        "id": "7AewIpeznLO0"
      },
      "execution_count": 25,
      "outputs": []
    },
    {
      "cell_type": "code",
      "source": [
        "places=os.listdir(path)\n",
        "for place in places:\n",
        "    if '.' in place:\n",
        "        places.remove(place)\n",
        "X1=np.empty((1,1,224,256))\n",
        "X2=np.empty((1,1,224,256))\n",
        "y=np.empty(1,9)\n",
        "for place in places:\n",
        "  x1,x2,Y=pickle.load(open(f'{place}_data.pickle','rb'))\n",
        "  X1=np.concatenate((X1,x1),axis=0)\n",
        "  X2=np.concatenate((X2,x2),axis=0)\n",
        "  y=np.concatenate((y,Y.reshape(-1,9)),axis=0)\n",
        "\n",
        "  "
      ],
      "metadata": {
        "id": "mk0JV2XaoIhx"
      },
      "execution_count": null,
      "outputs": []
    },
    {
      "cell_type": "code",
      "source": [
        "print(X1)"
      ],
      "metadata": {
        "colab": {
          "base_uri": "https://localhost:8080/",
          "height": 200
        },
        "id": "nOkJXJyxHusN",
        "outputId": "f55ed598-0bfb-40e3-f170-d6a0a9cf4060"
      },
      "execution_count": 10,
      "outputs": [
        {
          "output_type": "error",
          "ename": "NameError",
          "evalue": "ignored",
          "traceback": [
            "\u001b[0;31m---------------------------------------------------------------------------\u001b[0m",
            "\u001b[0;31mNameError\u001b[0m                                 Traceback (most recent call last)",
            "\u001b[0;32m<ipython-input-10-5b11fad6a2ac>\u001b[0m in \u001b[0;36m<module>\u001b[0;34m()\u001b[0m\n\u001b[0;32m----> 1\u001b[0;31m \u001b[0mprint\u001b[0m\u001b[0;34m(\u001b[0m\u001b[0mX1\u001b[0m\u001b[0;34m)\u001b[0m\u001b[0;34m\u001b[0m\u001b[0;34m\u001b[0m\u001b[0m\n\u001b[0m",
            "\u001b[0;31mNameError\u001b[0m: name 'X1' is not defined"
          ]
        }
      ]
    },
    {
      "cell_type": "code",
      "source": [
        "print(y)"
      ],
      "metadata": {
        "colab": {
          "base_uri": "https://localhost:8080/"
        },
        "id": "qcn2rDL0WZc4",
        "outputId": "efc8306b-d556-4a58-bcd8-aa02f5fa8583"
      },
      "execution_count": 7,
      "outputs": [
        {
          "output_type": "stream",
          "name": "stdout",
          "text": [
            "[[ 4.68027464e-310  0.00000000e+000  0.00000000e+000 ...  0.00000000e+000\n",
            "   0.00000000e+000  0.00000000e+000]\n",
            " [-2.38480981e-003 -9.33062611e-001  2.91327859e+002 ... -1.44464946e+002\n",
            "   8.41637708e+001 -2.37311349e+004]\n",
            " [-1.32451595e-002 -1.60948244e+000  5.04081199e+002 ... -4.14952064e+002\n",
            "  -1.40885239e+002 -4.72373833e+004]\n",
            " ...\n",
            " [ 5.14934355e-001  9.53832603e+000 -6.93670102e+003 ...  3.39418155e+003\n",
            "  -2.53628989e+003  4.55418223e+004]\n",
            " [-4.18571487e-001  1.77998483e+001 -1.15935088e+004 ...  6.33347393e+003\n",
            "   5.63953316e+003 -4.10106477e+006]\n",
            " [-3.17845304e-001  1.51616817e+001 -1.01788313e+004 ...  1.04046670e+004\n",
            "  -5.53257473e+003 -1.21063588e+004]]\n"
          ]
        }
      ]
    },
    {
      "cell_type": "code",
      "source": [
        ""
      ],
      "metadata": {
        "id": "mgpukM4IhdvE"
      },
      "execution_count": null,
      "outputs": []
    }
  ]
}